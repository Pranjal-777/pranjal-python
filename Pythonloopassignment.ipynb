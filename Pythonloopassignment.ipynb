{
  "nbformat": 4,
  "nbformat_minor": 0,
  "metadata": {
    "colab": {
      "provenance": [],
      "authorship_tag": "ABX9TyPVPJ/sBoCbcR23zyJzOXb7",
      "include_colab_link": true
    },
    "kernelspec": {
      "name": "python3",
      "display_name": "Python 3"
    },
    "language_info": {
      "name": "python"
    }
  },
  "cells": [
    {
      "cell_type": "markdown",
      "metadata": {
        "id": "view-in-github",
        "colab_type": "text"
      },
      "source": [
        "<a href=\"https://colab.research.google.com/github/Pranjal-777/pranjal-python/blob/main/Pythonloopassignment.ipynb\" target=\"_parent\"><img src=\"https://colab.research.google.com/assets/colab-badge.svg\" alt=\"Open In Colab\"/></a>"
      ]
    },
    {
      "cell_type": "code",
      "execution_count": 16,
      "metadata": {
        "colab": {
          "base_uri": "https://localhost:8080/"
        },
        "id": "PLPg2tX6ZL8D",
        "outputId": "1a413856-7bf1-41c9-d84f-9f1dd1e254fb"
      },
      "outputs": [
        {
          "output_type": "stream",
          "name": "stdout",
          "text": [
            "num3 is the greater number amoung 3\n"
          ]
        }
      ],
      "source": [
        "#Python code for greater amoung three numbers:\n",
        "num1= 40\n",
        "num2= 45\n",
        "num3=60\n",
        "\n",
        "if num1>=num2 and num1>=num3:\n",
        "  print(\"num1 is greater number amoung 3\")\n",
        "elif num2>=num1 and num2>=num3:\n",
        "  print(\"num2 is the grater number amoung 3\")\n",
        "else:\n",
        "  print(\"num3 is the greater number amoung 3\")\n"
      ]
    },
    {
      "cell_type": "code",
      "source": [
        "#Python code for leap year:\n",
        "year=2024\n",
        "\n",
        "if year/4==0:\n",
        "  print(\"year is a leap year\")\n",
        "else:\n",
        "  print(\"year is not a leap year\")"
      ],
      "metadata": {
        "colab": {
          "base_uri": "https://localhost:8080/"
        },
        "id": "yuulH5u_f7LC",
        "outputId": "4e9f8464-20e2-434f-cce9-0d64f306930f"
      },
      "execution_count": 20,
      "outputs": [
        {
          "output_type": "stream",
          "name": "stdout",
          "text": [
            "year is not a leap year\n"
          ]
        }
      ]
    },
    {
      "cell_type": "code",
      "source": [
        "from ast import If\n",
        "#python program for grading system:\n",
        "#IF Student grade > 90 then provide grade as A,If grade 80to90=B,IF grade 80 to 70=C,if grade 70 to 60=D,grade 60 to 50=E,grade50 to 40=Fail\n",
        "grade=49\n",
        "\n",
        "\n",
        "if grade >= 90:\n",
        "  print(\"A\")\n",
        "elif (grade >=80) and (grade <=89):\n",
        "  print(\"B\")\n",
        "elif (grade >=70) and (grade <=79):\n",
        "  print(\"C\")\n",
        "elif (grade >=60) and (grade <=69):\n",
        "  print(\"D\")\n",
        "elif (grade >=50) and (grade <=59):\n",
        "  print(\"E\")\n",
        "else:\n",
        "  print(\"Fail\")\n"
      ],
      "metadata": {
        "colab": {
          "base_uri": "https://localhost:8080/"
        },
        "id": "o3MWhT_BgpZi",
        "outputId": "ee69d230-0975-40ea-a74f-f3e071ceeb5a"
      },
      "execution_count": 33,
      "outputs": [
        {
          "output_type": "stream",
          "name": "stdout",
          "text": [
            "Fail\n"
          ]
        }
      ]
    },
    {
      "cell_type": "code",
      "source": [],
      "metadata": {
        "id": "dGCn5o7Og3-g"
      },
      "execution_count": null,
      "outputs": []
    }
  ]
}