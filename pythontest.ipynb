{
  "nbformat": 4,
  "nbformat_minor": 0,
  "metadata": {
    "colab": {
      "provenance": [],
      "authorship_tag": "ABX9TyPnoraynVHkDQZeV+J5maQG",
      "include_colab_link": true
    },
    "kernelspec": {
      "name": "python3",
      "display_name": "Python 3"
    },
    "language_info": {
      "name": "python"
    }
  },
  "cells": [
    {
      "cell_type": "markdown",
      "metadata": {
        "id": "view-in-github",
        "colab_type": "text"
      },
      "source": [
        "<a href=\"https://colab.research.google.com/github/Pranjal-777/pranjal-python/blob/main/pythontest.ipynb\" target=\"_parent\"><img src=\"https://colab.research.google.com/assets/colab-badge.svg\" alt=\"Open In Colab\"/></a>"
      ]
    },
    {
      "cell_type": "code",
      "execution_count": null,
      "metadata": {
        "id": "tYTn1h-As3C4"
      },
      "outputs": [],
      "source": [
        "#Python is programming language which is easy to use.\n",
        "#Python is object oriented language\n",
        "#with the help of python we can work in the field of Data analytics,Machine leraning, Software development, Web development etc\n"
      ]
    },
    {
      "cell_type": "code",
      "source": [
        "#What is an interpreted language?\n"
      ],
      "metadata": {
        "id": "DKTaDZB4tlY3"
      },
      "execution_count": null,
      "outputs": []
    },
    {
      "cell_type": "code",
      "source": [
        "#List: In the list we can put elementts with different data types such as string,integer,complex and float\n",
        "#List is mutable,ordered\n",
        "#List is represented by []\n",
        "\n",
        "#What is tuple?\n",
        "#Tuple: In the tuple we can put elementts with different data types such as string,integer,complex and float\n",
        "#Tuple is immutable,ordered\n",
        "#Tuple is represented by ()\n"
      ],
      "metadata": {
        "id": "Oa9e6KoQtlNg"
      },
      "execution_count": null,
      "outputs": []
    },
    {
      "cell_type": "code",
      "source": [
        "#What are the built in data types in python?\n",
        "#int float complex str\n",
        " #LIST,TUPLE,SET,DICTIONARY\n"
      ],
      "metadata": {
        "id": "TIRRNtWBvEog"
      },
      "execution_count": null,
      "outputs": []
    },
    {
      "cell_type": "code",
      "source": [],
      "metadata": {
        "id": "lVcMa2Qyvlx4"
      },
      "execution_count": null,
      "outputs": []
    },
    {
      "cell_type": "code",
      "source": [
        "#What does '#' symbol used for\n",
        "# is used for comments or for brief information about code we can use it as note.\n"
      ],
      "metadata": {
        "id": "L6hBbCnvwFb4"
      },
      "execution_count": null,
      "outputs": []
    },
    {
      "cell_type": "code",
      "source": [
        "#What is the diffreence between mutable and immutable datatypes;\n",
        "#Mutable datatypes which can be changed but immutable we cant change the value in it\n",
        "#For example:list is mutuable\n",
        "# tuple is immutable\n"
      ],
      "metadata": {
        "id": "dr_iWAKewigS"
      },
      "execution_count": null,
      "outputs": []
    },
    {
      "cell_type": "code",
      "source": [
        "#Set and Dictionary are mutable datatypes.\n",
        "#Dictionary is represented by {}\n",
        "#Set is represented by {}\n",
        "#Dictionary can allow repetative item and consist of key value pair\n",
        "#Set removes repetative value"
      ],
      "metadata": {
        "id": "GYUIfWC5w4B7"
      },
      "execution_count": null,
      "outputs": []
    },
    {
      "cell_type": "code",
      "source": [
        "#What is diff bet / // in python?\n"
      ],
      "metadata": {
        "id": "UsVUh3xbxyr3"
      },
      "execution_count": null,
      "outputs": []
    },
    {
      "cell_type": "code",
      "source": [
        "#what is loop and while loop?"
      ],
      "metadata": {
        "id": "4zf3GI-wx52H"
      },
      "execution_count": null,
      "outputs": []
    },
    {
      "cell_type": "code",
      "source": [
        "#Explain how python uses identation?\n",
        "\n"
      ],
      "metadata": {
        "id": "t9pFrq1NyeL5"
      },
      "execution_count": null,
      "outputs": []
    },
    {
      "cell_type": "code",
      "source": [
        "#How do u comment in single and multiple line?\n",
        "#With the help of # and //\n"
      ],
      "metadata": {
        "id": "xrJRwDQ2ynz4"
      },
      "execution_count": null,
      "outputs": []
    },
    {
      "cell_type": "code",
      "source": [
        "#what is docstring in python?\n"
      ],
      "metadata": {
        "id": "kjWu5N37y2mh"
      },
      "execution_count": null,
      "outputs": []
    },
    {
      "cell_type": "code",
      "source": [
        "#How does python dictionary differ from List?\n",
        "#List: Orderd,mutuable\n",
        "#List represented by []\n",
        "#List can use with the help of index\n",
        "#Dictionary: Unordered,mutable\n",
        "#Dictionary represented by {}\n",
        "#Dictionary consist of key value pair called as item\n"
      ],
      "metadata": {
        "id": "5OybjzC4zXFz"
      },
      "execution_count": null,
      "outputs": []
    },
    {
      "cell_type": "code",
      "source": [
        "#when to use list tuple dictiornary"
      ],
      "metadata": {
        "id": "INuGiuUr0wAz"
      },
      "execution_count": null,
      "outputs": []
    },
    {
      "cell_type": "code",
      "source": [
        "#How do i modify string in python?\n",
        "#with the help of indexing\n"
      ],
      "metadata": {
        "id": "YMwW8X5V1_Tf"
      },
      "execution_count": null,
      "outputs": []
    },
    {
      "cell_type": "code",
      "source": [
        "#what is index in python and its types\n",
        "#Index:Position of eleemnt\n",
        "#positive index and Negative index"
      ],
      "metadata": {
        "id": "c6mC04952KoK"
      },
      "execution_count": null,
      "outputs": []
    },
    {
      "cell_type": "code",
      "source": [
        "#negative index means postiion of element starts from negative side.\n"
      ],
      "metadata": {
        "id": "hy7xIQcc2VFz"
      },
      "execution_count": null,
      "outputs": []
    },
    {
      "cell_type": "code",
      "source": [
        "#what are python namespaces"
      ],
      "metadata": {
        "id": "Hn6803Rq3waW"
      },
      "execution_count": null,
      "outputs": []
    },
    {
      "cell_type": "code",
      "source": [
        "#what are common built in data-types in python?\n",
        "#LIST,TUPLE\n"
      ],
      "metadata": {
        "id": "QWl6pTuA3yZe"
      },
      "execution_count": null,
      "outputs": []
    },
    {
      "cell_type": "code",
      "source": [
        "#What is slicing?\n",
        "a=['pranjal','patil','python','class']\n",
        "b=a[-2:-1]\n",
        "print(b)"
      ],
      "metadata": {
        "colab": {
          "base_uri": "https://localhost:8080/"
        },
        "id": "g5u1Z8Me4FXy",
        "outputId": "0a3a58b0-9dd9-437e-d3a9-dd21aab744bc"
      },
      "execution_count": null,
      "outputs": [
        {
          "output_type": "stream",
          "name": "stdout",
          "text": [
            "['python']\n"
          ]
        }
      ]
    },
    {
      "cell_type": "code",
      "source": [
        "#What are keywords?\n",
        "#Keywords are mostly function used in python\n",
        "#for else while etc"
      ],
      "metadata": {
        "id": "HW-Jo41v4nbd"
      },
      "execution_count": null,
      "outputs": []
    },
    {
      "cell_type": "code",
      "source": [
        "#What are variable?\n",
        "#Variable stores an element"
      ],
      "metadata": {
        "id": "R9pIsyV45L0H"
      },
      "execution_count": null,
      "outputs": []
    },
    {
      "cell_type": "code",
      "source": [
        "#what are operator in pythons?\n",
        "#Operations are used to perform some function/activity.\n",
        "\n"
      ],
      "metadata": {
        "id": "o2yx1-555VEP"
      },
      "execution_count": null,
      "outputs": []
    },
    {
      "cell_type": "code",
      "source": [
        "#logical operator with example?\n",
        "#Location operator are AND, OR, XOR\n",
        "IF both the values are true then while using AND operator o/p will be true.\n",
        "If any one of the value is true then while using OR operator o/p will be true.\n",
        "If both value are false then while using XOR operator o/p will be true."
      ],
      "metadata": {
        "id": "CZ-B0zSX5v64"
      },
      "execution_count": null,
      "outputs": []
    },
    {
      "cell_type": "code",
      "source": [
        "#is python case sensative?\n",
        "#yes"
      ],
      "metadata": {
        "id": "Sw3rFAAO6X_K"
      },
      "execution_count": null,
      "outputs": []
    },
    {
      "cell_type": "code",
      "source": [
        "what is lambda function?"
      ],
      "metadata": {
        "id": "tP5Qkr1L6c8J"
      },
      "execution_count": null,
      "outputs": []
    },
    {
      "cell_type": "code",
      "source": [
        "How does break,continue,pass work?"
      ],
      "metadata": {
        "id": "-fHLHKNk6jaa"
      },
      "execution_count": null,
      "outputs": []
    },
    {
      "cell_type": "code",
      "source": [
        "Explain conditional statemetn with example?"
      ],
      "metadata": {
        "id": "hcIRZ_jP6nGb"
      },
      "execution_count": null,
      "outputs": []
    },
    {
      "cell_type": "code",
      "source": [
        "Explain loop statement with example?"
      ],
      "metadata": {
        "id": "xfuzwli26rg6"
      },
      "execution_count": null,
      "outputs": []
    },
    {
      "cell_type": "code",
      "source": [
        "What are python iterator?"
      ],
      "metadata": {
        "id": "xvhAIvu06zzr"
      },
      "execution_count": null,
      "outputs": []
    },
    {
      "cell_type": "code",
      "source": [
        "How do you write comments in python?\n",
        "#comments can be written by usng #"
      ],
      "metadata": {
        "id": "9Xy9etfl63e7"
      },
      "execution_count": null,
      "outputs": []
    },
    {
      "cell_type": "code",
      "source": [
        "#capitalize first letter using string upsing upper() function."
      ],
      "metadata": {
        "id": "zjmWyxdk6-u7"
      },
      "execution_count": null,
      "outputs": []
    },
    {
      "cell_type": "code",
      "source": [
        "How do you convert all string to lower case?\n",
        "by using lower()"
      ],
      "metadata": {
        "id": "yCRtmnfw7HbU"
      },
      "execution_count": null,
      "outputs": []
    },
    {
      "cell_type": "code",
      "source": [
        "How to comment multple line in python?\n",
        "by using '#"
      ],
      "metadata": {
        "id": "UPWcSZqL7PO0"
      },
      "execution_count": null,
      "outputs": []
    },
    {
      "cell_type": "code",
      "source": [
        "#LEN() : calculate the lenth of string.\n",
        "a='pranjal'\n",
        "print(len(a))"
      ],
      "metadata": {
        "colab": {
          "base_uri": "https://localhost:8080/"
        },
        "id": "RPlewCgF7x7l",
        "outputId": "4ede7965-0cfe-4197-dd76-18c223891097"
      },
      "execution_count": null,
      "outputs": [
        {
          "output_type": "stream",
          "name": "stdout",
          "text": [
            "7\n"
          ]
        }
      ]
    },
    {
      "cell_type": "code",
      "source": [],
      "metadata": {
        "id": "-ay1ZBDn71cu"
      },
      "execution_count": null,
      "outputs": []
    },
    {
      "cell_type": "code",
      "source": [
        "#how do u remove in python?\n",
        "#with the help of remove function"
      ],
      "metadata": {
        "id": "vr9__gZ377pe"
      },
      "execution_count": null,
      "outputs": []
    },
    {
      "cell_type": "code",
      "source": [
        "#Does python have oops concept?YEs"
      ],
      "metadata": {
        "id": "om3fPflN8Bu2"
      },
      "execution_count": null,
      "outputs": []
    },
    {
      "cell_type": "code",
      "source": [
        "\n",
        "#o/p=lajnarp"
      ],
      "metadata": {
        "colab": {
          "base_uri": "https://localhost:8080/"
        },
        "id": "52wavzsp8IJd",
        "outputId": "6cbc2c43-e4d7-4f3d-8bb3-abb0c719a4e1"
      },
      "execution_count": null,
      "outputs": [
        {
          "output_type": "stream",
          "name": "stdout",
          "text": [
            "l\n"
          ]
        }
      ]
    }
  ]
}