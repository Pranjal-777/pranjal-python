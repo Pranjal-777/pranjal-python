{
  "nbformat": 4,
  "nbformat_minor": 0,
  "metadata": {
    "colab": {
      "provenance": [],
      "authorship_tag": "ABX9TyMl3DVktqsev8by8HwsTwnE",
      "include_colab_link": true
    },
    "kernelspec": {
      "name": "python3",
      "display_name": "Python 3"
    },
    "language_info": {
      "name": "python"
    }
  },
  "cells": [
    {
      "cell_type": "markdown",
      "metadata": {
        "id": "view-in-github",
        "colab_type": "text"
      },
      "source": [
        "<a href=\"https://colab.research.google.com/github/Pranjal-777/pranjal-python/blob/main/Set.ipynb\" target=\"_parent\"><img src=\"https://colab.research.google.com/assets/colab-badge.svg\" alt=\"Open In Colab\"/></a>"
      ]
    },
    {
      "cell_type": "code",
      "execution_count": 1,
      "metadata": {
        "id": "3s99ef_9ZiBL"
      },
      "outputs": [],
      "source": [
        "#Python set\n",
        "#set are used to store multiple item in a single variable.\n",
        "#Set is one of 4 built in data types in python used to store collecction of data,the other 3 are List, Tuple and Dictionary al with different qualities and usage.\n",
        "#A set is collecction of unordered,unchangeable, and unindexed, and do not allow duplicate values.\n",
        "#Notes:Set items are uncahngeable, but you can remove items and add new items."
      ]
    },
    {
      "cell_type": "code",
      "source": [
        "set = {\"apple\",'banana','cherry'}         #set is unordered so you cannot be sure  in which order the items will appear.\n",
        "print(set)"
      ],
      "metadata": {
        "colab": {
          "base_uri": "https://localhost:8080/"
        },
        "id": "xIqwS7mrf32U",
        "outputId": "3afc97d3-3e7a-45a0-96ac-498e1dc9bd1a"
      },
      "execution_count": 2,
      "outputs": [
        {
          "output_type": "stream",
          "name": "stdout",
          "text": [
            "{'cherry', 'apple', 'banana'}\n"
          ]
        }
      ]
    },
    {
      "cell_type": "code",
      "source": [
        "set ={'apple','banana','apple','cheery'}  #doesnot allow duplicate value\n",
        "print(set)"
      ],
      "metadata": {
        "colab": {
          "base_uri": "https://localhost:8080/"
        },
        "id": "cgRlllPdftOX",
        "outputId": "46408dcf-0370-4b8d-d815-de520c5f4f16"
      },
      "execution_count": 3,
      "outputs": [
        {
          "output_type": "stream",
          "name": "stdout",
          "text": [
            "{'apple', 'cheery', 'banana'}\n"
          ]
        }
      ]
    },
    {
      "cell_type": "code",
      "source": [
        "set ={'apple','banana','cherry',1,True,1,0,False,False}   # True False and 0 1 are considered duplicate values.\n",
        "print(set)\n",
        "print(len(set))                                           #how many items a set has. user len() function"
      ],
      "metadata": {
        "colab": {
          "base_uri": "https://localhost:8080/"
        },
        "id": "rOqzaJYUe9VE",
        "outputId": "787672de-4354-4eb6-b9f9-8712ca608a0d"
      },
      "execution_count": 8,
      "outputs": [
        {
          "output_type": "stream",
          "name": "stdout",
          "text": [
            "{0, 1, 'apple', 'banana', 'cherry'}\n",
            "5\n"
          ]
        }
      ]
    },
    {
      "cell_type": "code",
      "source": [
        "pranjal ={'apple','banana','cherry',1,2,3,True,False}   #set contain different datatypes\n",
        "print(pranjal)\n",
        "\n",
        "\n",
        "\n"
      ],
      "metadata": {
        "colab": {
          "base_uri": "https://localhost:8080/"
        },
        "id": "9GW5UjRTisLO",
        "outputId": "f3fc77d4-290a-4e9c-cae7-e938b5250591"
      },
      "execution_count": 21,
      "outputs": [
        {
          "output_type": "stream",
          "name": "stdout",
          "text": [
            "{False, 1, 2, 3, 'apple', 'banana', 'cherry'}\n"
          ]
        }
      ]
    },
    {
      "cell_type": "code",
      "source": [
        "#Access Items:You cannot access items in a set by referrin to an index or a key.\n",
        "#But you can loop through the set items using a for loop,or ask if a specified value is preset in a set by using the in keyword.\n"
      ],
      "metadata": {
        "id": "fd4I9Jxth3Mt"
      },
      "execution_count": 22,
      "outputs": []
    },
    {
      "cell_type": "code",
      "source": [
        "pranjal ={'apple','banana','cherry',1,2,3,True,False}   #set contain different datatypes\n",
        "for x in pranjal:\n",
        " print(x)\n",
        "\n",
        "pranjal ={'apple','banana','cherry',1,2,3,True,False}   #can check if any item is preset in the  set or not\n",
        "print(\"banana\" not in pranjal)                          #output will be in true or false.\n",
        "\n",
        "\n",
        "pranjal ={'apple','banana','cherry',1,2,3,True,False}\n",
        "print(\"banana\" in pranjal)\n",
        "\n",
        "\n"
      ],
      "metadata": {
        "colab": {
          "base_uri": "https://localhost:8080/"
        },
        "id": "W977nyDfkH9Z",
        "outputId": "da230d28-f5d1-45ce-a88e-2d9e4c0ea6e1"
      },
      "execution_count": 29,
      "outputs": [
        {
          "output_type": "stream",
          "name": "stdout",
          "text": [
            "False\n",
            "1\n",
            "2\n",
            "3\n",
            "apple\n",
            "banana\n",
            "cherry\n",
            "False\n",
            "True\n"
          ]
        }
      ]
    },
    {
      "cell_type": "code",
      "source": [
        "#Python- Add set items\n",
        "#To add  one item to a set used the add() method\n",
        "sset={'apple','banana','cherry'}\n",
        "sset.add(\"orange\")\n",
        "print(sset)\n",
        "\n",
        "sset={'apple','banana','cherry'}\n",
        "sset1={\"orange\",\"mango\",\"grapes\"}\n",
        "\n",
        "sset.update(sset1)\n",
        "print(sset)\n",
        "#In set,update() method does not have to be set, it can be any iterate object such list, tuple,dictionaries.\n",
        "thisset={'apple','banana','cherry'}\n",
        "mylist=['kiwi','orange']\n",
        "thisset.update(mylist)\n",
        "print(thisset)"
      ],
      "metadata": {
        "colab": {
          "base_uri": "https://localhost:8080/"
        },
        "id": "juChvM_VpZ-k",
        "outputId": "a0047f77-1a80-4566-988b-3fa0f1c51a96"
      },
      "execution_count": 36,
      "outputs": [
        {
          "output_type": "stream",
          "name": "stdout",
          "text": [
            "{'cherry', 'apple', 'orange', 'banana'}\n",
            "{'apple', 'mango', 'grapes', 'banana', 'cherry', 'orange'}\n",
            "{'banana', 'orange', 'kiwi', 'apple', 'cherry'}\n"
          ]
        }
      ]
    },
    {
      "cell_type": "code",
      "source": [
        "#Remove ramdom item from set use pop()\n",
        "thisset={'apple','banana','cherry'}\n",
        "x=thisset.pop()\n",
        "print(x)\n",
        "print(thisset)\n",
        "#clear() use for clearing the set\n",
        "#discard and remove() use to remove any item from set for ex thisiset.remove(banana)\n",
        "#del use to delete the set."
      ],
      "metadata": {
        "colab": {
          "base_uri": "https://localhost:8080/"
        },
        "id": "kXsga-zqpldd",
        "outputId": "319fd840-80b3-4c06-ca10-0feebe4850c6"
      },
      "execution_count": 38,
      "outputs": [
        {
          "output_type": "stream",
          "name": "stdout",
          "text": [
            "cherry\n",
            "{'apple', 'banana'}\n"
          ]
        }
      ]
    },
    {
      "cell_type": "code",
      "source": [],
      "metadata": {
        "id": "zoUzg8z_sUea"
      },
      "execution_count": null,
      "outputs": []
    }
  ]
}