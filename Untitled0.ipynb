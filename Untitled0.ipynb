{
  "nbformat": 4,
  "nbformat_minor": 0,
  "metadata": {
    "colab": {
      "provenance": [],
      "authorship_tag": "ABX9TyMPdZYG+Rd2z3S5Jn0pX4pU",
      "include_colab_link": true
    },
    "kernelspec": {
      "name": "python3",
      "display_name": "Python 3"
    },
    "language_info": {
      "name": "python"
    }
  },
  "cells": [
    {
      "cell_type": "markdown",
      "metadata": {
        "id": "view-in-github",
        "colab_type": "text"
      },
      "source": [
        "<a href=\"https://colab.research.google.com/github/Pranjal-777/pranjal-python/blob/main/Untitled0.ipynb\" target=\"_parent\"><img src=\"https://colab.research.google.com/assets/colab-badge.svg\" alt=\"Open In Colab\"/></a>"
      ]
    },
    {
      "cell_type": "code",
      "execution_count": null,
      "metadata": {
        "colab": {
          "base_uri": "https://localhost:8080/"
        },
        "id": "dQ89wFSDEhUr",
        "outputId": "102c0341-fe1e-4d9e-8b14-0e50ed87c825"
      },
      "outputs": [
        {
          "output_type": "stream",
          "name": "stdout",
          "text": [
            "['Laptop', 'Bottle', 'Teks', 'Jacket', 'Charger']\n",
            "['Laptop']\n",
            "Jacket\n",
            "['Laptop', 'Bottle', 'Teks']\n",
            "['Teks', 'Jacket']\n",
            "5\n"
          ]
        }
      ],
      "source": [
        "#List\n",
        "#Lists are used to store multiple item in a single variable,It is used to store the collection of data.\n",
        "#List are created using Square bracket.\n",
        "\n",
        "LISTs = [\"Laptop\",'Bottle',\"Teks\",\"Jacket\",\"Charger\"]  #you can add single quote as well for string\n",
        "print(LISTs)\n",
        "print(LISTs[0:1])\n",
        "print(LISTs[-2])     #Starting from end -2\n",
        "print(LISTs[0:-2])   #Starting from front side as 0 to -3\n",
        "print(LISTs[-3:-1])  #for positive and negative index: move from left to right(0:1,1:3,-3:-1,-2:0)\n",
        "print(len(LISTs))    #Lenth of the list\n"
      ]
    },
    {
      "cell_type": "code",
      "source": [
        "from typing import List\n",
        "list=[\"Lion\",\"king\",45,True,\"Not found\"]\n",
        "print(list)\n",
        "List1=[list]\n",
        "List1\n",
        "\n",
        "List2=[\"Car\",5000000,\"BMW\"]\n",
        "List3= list + List2                  #adding of two list is possible\n",
        "print(List3)\n",
        "List3.pop(4)      #POP method in list\n",
        "\n",
        "Hello=[\"hi\",\"hello\",\"Tata\",\"Byebye\"]\n",
        "if \"hello\" in Hello:\n",
        "       print(\"Yes, hello is present in the list\")\n",
        "if \"pranjal\" in Hello:\n",
        "  print(\"Yes,Pranjal is present in the list\")\n",
        "else:\n",
        "  print(\"No,Pranjal is not present in the  list\")\n",
        "\n"
      ],
      "metadata": {
        "colab": {
          "base_uri": "https://localhost:8080/"
        },
        "id": "zI6YN1dpFb4p",
        "outputId": "4d3b32df-efbd-414a-adb0-2bc829a0f880"
      },
      "execution_count": null,
      "outputs": [
        {
          "output_type": "stream",
          "name": "stdout",
          "text": [
            "['Lion', 'king', 45, True, 'Not found']\n",
            "['Lion', 'king', 45, True, 'Not found', 'Car', 5000000, 'BMW']\n",
            "Yes, hello is present in the list\n",
            "No,Pranjal is not present in the  list\n"
          ]
        }
      ]
    },
    {
      "cell_type": "code",
      "source": [
        "list1 =[\"apple\",\"Ball\",\"circle\"]\n",
        "list2 =[23,33,43]\n",
        "list3=[23+5J, 66+4j,77+4j]\n",
        "\n",
        "list4=list1+list2+list3    #adding multiple list.\n",
        "print(list4)\n",
        "\n",
        "list3.pop(2)               #Remove the index mentioned in the pop function\n",
        "print(list3)\n",
        "\n",
        "list2.reverse()            #reverse the element present in list\n",
        "print(list2)\n",
        "\n",
        "list1.extend(list2)        #extendig list with other list better than using add function\n",
        "print(list1)\n",
        "\n",
        "list1.append(\"biscuit\")    #adding element at the end of list\n",
        "print(list1)\n",
        "\n",
        "list3.append(45+5j)\n",
        "print(list3)\n",
        "\n",
        "list3.clear()              #clear function\n",
        "print(list3)\n",
        "\n",
        "list2.insert(1,\"watermelon\")  #To insert a list item at a specified index, use the insert() method.\n",
        "print(list2)\n",
        "\n",
        "\n",
        "\n"
      ],
      "metadata": {
        "colab": {
          "base_uri": "https://localhost:8080/"
        },
        "id": "mxgWLgRMFb0x",
        "outputId": "90159271-3f4b-417c-f8bf-d841d8835ec8"
      },
      "execution_count": null,
      "outputs": [
        {
          "output_type": "stream",
          "name": "stdout",
          "text": [
            "['apple', 'Ball', 'circle', 23, 33, 43, (23+5j), (66+4j), (77+4j)]\n",
            "[(23+5j), (66+4j)]\n",
            "[43, 33, 23]\n",
            "['apple', 'Ball', 'circle', 43, 33, 23]\n",
            "['apple', 'Ball', 'circle', 43, 33, 23, 'biscuit']\n",
            "[(23+5j), (66+4j), (45+5j)]\n",
            "[]\n",
            "[43, 'watermelon', 33, 23]\n"
          ]
        }
      ]
    },
    {
      "cell_type": "code",
      "source": [],
      "metadata": {
        "id": "4BldnwbWFbyn"
      },
      "execution_count": null,
      "outputs": []
    },
    {
      "cell_type": "code",
      "source": [],
      "metadata": {
        "id": "Mve5hNzeFbfO"
      },
      "execution_count": null,
      "outputs": []
    }
  ]
}