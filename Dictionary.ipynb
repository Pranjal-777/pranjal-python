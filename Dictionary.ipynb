{
  "nbformat": 4,
  "nbformat_minor": 0,
  "metadata": {
    "colab": {
      "provenance": [],
      "authorship_tag": "ABX9TyNqaXKgnMbLsG+V+1Cu8cAF",
      "include_colab_link": true
    },
    "kernelspec": {
      "name": "python3",
      "display_name": "Python 3"
    },
    "language_info": {
      "name": "python"
    }
  },
  "cells": [
    {
      "cell_type": "markdown",
      "metadata": {
        "id": "view-in-github",
        "colab_type": "text"
      },
      "source": [
        "<a href=\"https://colab.research.google.com/github/Pranjal-777/pranjal-python/blob/main/Dictionary.ipynb\" target=\"_parent\"><img src=\"https://colab.research.google.com/assets/colab-badge.svg\" alt=\"Open In Colab\"/></a>"
      ]
    },
    {
      "cell_type": "code",
      "execution_count": null,
      "metadata": {
        "id": "Mm-31JAY4hZC"
      },
      "outputs": [],
      "source": [
        "#Python Dictionary\n",
        "#Dictionaries are used to store data values in key:value pairs.\n",
        "#A Dictionary is a collection which is ordered, changeable(mutuable) and do ot allow duplicates.\n",
        "# Dictionaries are written in curly brackets and have key and value:\n",
        "#one key:value pair is equal to Item.\n",
        "#addition of two string dont work in dictionary\n"
      ]
    },
    {
      "cell_type": "code",
      "source": [
        "hello ={'name':'pranjal','age':20,'city':'Hyderabad','company':'cognizant'}\n",
        "print(hello)\n",
        "type(hello)\n",
        "print(hello['age'])\n",
        "print(hello['city'])\n",
        "\n"
      ],
      "metadata": {
        "colab": {
          "base_uri": "https://localhost:8080/"
        },
        "id": "lkrR9T_n6ZeS",
        "outputId": "ab8d0e96-c141-40a7-e666-e9688f639f30"
      },
      "execution_count": 10,
      "outputs": [
        {
          "output_type": "stream",
          "name": "stdout",
          "text": [
            "{'name': 'pranjal', 'age': 20, 'city': 'Hyderabad', 'company': 'cognizant'}\n",
            "20\n",
            "Hyderabad\n"
          ]
        }
      ]
    },
    {
      "cell_type": "code",
      "source": [
        "#access dictioanary item:You can access the items of dictionary by referring to its key name,inside square brackets;\n",
        "#method which are use to access the dictionary items are 1.get(),2.key(),3.Update(),4.item(),5.values(),6.clear(),7.pop(),8.popitem(),9.del()\n",
        "\n",
        "school ={'name':'BSES','student':100,'Staff':20,'Location':\"Hyderabad\"}\n",
        "print(school)\n",
        "school.get('name'),school.get('student'),school.get('Staff'),school.get('Location'),school.values()\n"
      ],
      "metadata": {
        "colab": {
          "base_uri": "https://localhost:8080/"
        },
        "id": "ewpeI43F61Nn",
        "outputId": "ff33cbbd-d432-4a65-914f-93868ac3800a"
      },
      "execution_count": 39,
      "outputs": [
        {
          "output_type": "stream",
          "name": "stdout",
          "text": [
            "{'name': 'BSES', 'student': 100, 'Staff': 20, 'Location': 'Hyderabad'}\n"
          ]
        },
        {
          "output_type": "execute_result",
          "data": {
            "text/plain": [
              "('BSES', 100, 20, 'Hyderabad', dict_values(['BSES', 100, 20, 'Hyderabad']))"
            ]
          },
          "metadata": {},
          "execution_count": 39
        }
      ]
    },
    {
      "cell_type": "code",
      "source": [
        "\n",
        "car={\"brand\":\"BMW\",\"model\":\"x7\",\"year\":2020}\n",
        "x=car.keys()                                      #key method which provide all key in dictionary\n",
        "print(x)\n",
        "print(car.values())                               #value method returns all values inside of dictionary\n",
        "car[\"year\"]=2021                                  #Added extra key and value detials in car dictionary\n",
        "print(car)                                        #year which is updated as 2021 from 2020\n",
        "y=car.values()\n",
        "print(y)\n",
        "car['color']=\"Black\"                              #added one more key value into dictionary\n",
        "print(y)\n",
        "print(car.items())                                #Item method used to get all key:value pair\n",
        "\n"
      ],
      "metadata": {
        "colab": {
          "base_uri": "https://localhost:8080/"
        },
        "id": "9EihTSsR_k4z",
        "outputId": "f00533d6-be76-44c7-adc9-07b3bb5de032"
      },
      "execution_count": 54,
      "outputs": [
        {
          "output_type": "stream",
          "name": "stdout",
          "text": [
            "dict_keys(['brand', 'model', 'year'])\n",
            "dict_values(['BMW', 'x7', 2020])\n",
            "{'brand': 'BMW', 'model': 'x7', 'year': 2021}\n",
            "dict_values(['BMW', 'x7', 2021])\n",
            "dict_values(['BMW', 'x7', 2021, 'Black'])\n",
            "dict_items([('brand', 'BMW'), ('model', 'x7'), ('year', 2021), ('color', 'Black')])\n"
          ]
        }
      ]
    },
    {
      "cell_type": "code",
      "source": [
        "LEC ={'subject':\"Python\",\"teacher\":'Vamsisir',\"student\":10}\n",
        "LEC[\"year\"]=2023\n",
        "print(LEC)\n",
        "#you can update key:value pair by using update method\n",
        "LEC.update({\"year\":2024})\n",
        "print(LEC)\n",
        "#you can remove the item by using specified key and by using pop() method\n",
        "LEC.pop(\"teacher\")\n",
        "print(LEC)\n",
        "#popitem()removes the last  inserted item.i.e lastly we have inserted year so it automatically got removed.\n",
        "LEC.popitem()\n",
        "print(LEC)\n",
        "#delete metod is somehow same as pop() but with the help of del you can delete whole dicitonary as well.\n",
        "del LEC[\"student\"]\n",
        "print(LEC)\n",
        "\n",
        "\n",
        "\n",
        "\n",
        "\n"
      ],
      "metadata": {
        "colab": {
          "base_uri": "https://localhost:8080/"
        },
        "id": "-psNLcDDDcB3",
        "outputId": "895a09c1-1780-4b84-92d7-362bf2b02a88"
      },
      "execution_count": 66,
      "outputs": [
        {
          "output_type": "stream",
          "name": "stdout",
          "text": [
            "{'subject': 'Python', 'teacher': 'Vamsisir', 'student': 10, 'year': 2023}\n",
            "{'subject': 'Python', 'teacher': 'Vamsisir', 'student': 10, 'year': 2024}\n",
            "{'subject': 'Python', 'student': 10, 'year': 2024}\n",
            "{'subject': 'Python', 'student': 10}\n",
            "{'subject': 'Python'}\n"
          ]
        }
      ]
    },
    {
      "cell_type": "code",
      "source": [
        "Pranjal ={'name':'pranjal','age':20,'city':'Hyderabad','company':'cognizant'}\n",
        "print(Pranjal)\n",
        "\n",
        "del Pranjal[\"age\"]\n",
        "print(Pranjal)\n",
        "#clear method used to clear the dictionary\n",
        "Pranjal.clear()\n",
        "print(Pranjal)\n"
      ],
      "metadata": {
        "colab": {
          "base_uri": "https://localhost:8080/"
        },
        "id": "FmK3G0zZLinV",
        "outputId": "e3a12b1b-3e06-408c-aada-36da3ab71ea8"
      },
      "execution_count": 70,
      "outputs": [
        {
          "output_type": "stream",
          "name": "stdout",
          "text": [
            "{'name': 'pranjal', 'age': 20, 'city': 'Hyderabad', 'company': 'cognizant'}\n",
            "{'name': 'pranjal', 'city': 'Hyderabad', 'company': 'cognizant'}\n",
            "{}\n"
          ]
        }
      ]
    }
  ]
}