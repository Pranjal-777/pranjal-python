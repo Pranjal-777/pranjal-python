{
  "nbformat": 4,
  "nbformat_minor": 0,
  "metadata": {
    "colab": {
      "provenance": []
    },
    "kernelspec": {
      "name": "python3",
      "display_name": "Python 3"
    },
    "language_info": {
      "name": "python"
    }
  },
  "cells": [
    {
      "cell_type": "code",
      "execution_count": 1,
      "metadata": {
        "colab": {
          "base_uri": "https://localhost:8080/"
        },
        "id": "h1L4zRin4Upa",
        "outputId": "48f1818b-7405-44be-d6a1-c079929640c9"
      },
      "outputs": [
        {
          "output_type": "stream",
          "name": "stdout",
          "text": [
            "Hello World\n"
          ]
        }
      ],
      "source": [
        "print(\"Hello World\")"
      ]
    },
    {
      "cell_type": "markdown",
      "source": [],
      "metadata": {
        "id": "8jStE9zi-oe5"
      }
    },
    {
      "cell_type": "code",
      "source": [
        "x=1\n",
        "y=2.8\n",
        "z=1j\n",
        "print(type(z))\n",
        "print(type(x))\n",
        "print(type(z))\n",
        "\n",
        "a=float(x)\n",
        "b=int(y)\n",
        "c=complex(x)\n",
        "\n",
        "print(a)\n",
        "print(b)\n",
        "print(c)\n",
        "print(type(a))\n",
        "print(type(b))\n",
        "print(type(c))\n",
        "\n"
      ],
      "metadata": {
        "colab": {
          "base_uri": "https://localhost:8080/"
        },
        "id": "Q4_xAOYo-dmS",
        "outputId": "6d3e8ca7-5fe8-4585-ad29-aaa4db07eafb"
      },
      "execution_count": 11,
      "outputs": [
        {
          "output_type": "stream",
          "name": "stdout",
          "text": [
            "<class 'complex'>\n",
            "<class 'int'>\n",
            "<class 'complex'>\n",
            "1.0\n",
            "2\n",
            "(1+0j)\n",
            "<class 'float'>\n",
            "<class 'int'>\n",
            "<class 'complex'>\n"
          ]
        }
      ]
    },
    {
      "cell_type": "code",
      "source": [
        "import random\n",
        "x=random.randrange(1,10)\n",
        "print(x)"
      ],
      "metadata": {
        "colab": {
          "base_uri": "https://localhost:8080/"
        },
        "outputId": "03247890-b7c8-41e2-fdc7-f246ba64dc16",
        "id": "uoqp0oGc_WTS"
      },
      "execution_count": 22,
      "outputs": [
        {
          "output_type": "stream",
          "name": "stdout",
          "text": [
            "2\n"
          ]
        }
      ]
    },
    {
      "cell_type": "code",
      "source": [
        "#python string\n",
        "a=\"hello Pranjal\"\n",
        "print(a[1])\n",
        "\n",
        "b=\"hello world\"\n",
        "print(b[2:5])\n",
        "print(b[:5])\n",
        "print(b[2:])\n",
        "print(b[-5:6])\n"
      ],
      "metadata": {
        "colab": {
          "base_uri": "https://localhost:8080/"
        },
        "id": "6t17LEMA-NES",
        "outputId": "496a9e39-1e26-4509-9986-eca55c28a975"
      },
      "execution_count": 33,
      "outputs": [
        {
          "output_type": "stream",
          "name": "stdout",
          "text": [
            "e\n",
            "llo\n",
            "hello\n",
            "llo world\n",
            "\n"
          ]
        }
      ]
    },
    {
      "cell_type": "code",
      "source": [
        "#pythonmodifystring\n",
        "a=\"Hello, World\"\n",
        "print(a.upper()) #uppercase\n",
        "print(a.lower())  #lowercase\n",
        "print(a.strip()) #strip remove any white spaces in between\n",
        "print(a.replace(\"H\",\"J\"))\n",
        "print(a.split())"
      ],
      "metadata": {
        "colab": {
          "base_uri": "https://localhost:8080/"
        },
        "id": "2HyZRKLJ-Che",
        "outputId": "db253542-1038-44a2-df14-889a7841d844"
      },
      "execution_count": 47,
      "outputs": [
        {
          "output_type": "stream",
          "name": "stdout",
          "text": [
            "HELLO, WORLD\n",
            "hello, world\n",
            "Hello, World\n",
            "Jello, World\n",
            "['Hello,', 'World']\n"
          ]
        }
      ]
    },
    {
      "cell_type": "code",
      "source": [
        "#python string concatenation\n",
        "a=\"pranjal\"\n",
        "c=\"patil\"\n",
        "b=\"   \"\n",
        "e=\"partur\"\n",
        "d=a+b+c\n",
        "print(d)\n",
        "print(a,c,e)\n",
        "print(a+c)\n",
        "\n",
        "#python formal string\n",
        "age=36\n",
        "txt=\"my name is pranjal, and i am {}\"\n",
        "\n",
        "txt2=f\"my name is pranjal, my age is {age}\"\n",
        "print(txt2)"
      ],
      "metadata": {
        "colab": {
          "base_uri": "https://localhost:8080/"
        },
        "id": "EdMaSVOqQNdQ",
        "outputId": "eb8d7f2a-cbaf-4f82-c644-155fcd496425"
      },
      "execution_count": 66,
      "outputs": [
        {
          "output_type": "stream",
          "name": "stdout",
          "text": [
            "pranjal   patil\n",
            "pranjal patil partur\n",
            "pranjalpatil\n",
            "my name is pranjal, my age is 36\n"
          ]
        }
      ]
    },
    {
      "cell_type": "code",
      "source": [
        "#python escape character\n",
        "text=\"We are waiting \\\"pranjal\\\" please come outside\"\n",
        "print(text)\n",
        "txt1=\"We are waiting \\n\\tPranjal please come fast\\n\\t\\tYou are welcome \"\n",
        "print(txt1)"
      ],
      "metadata": {
        "colab": {
          "base_uri": "https://localhost:8080/"
        },
        "id": "Awr8cxymQNbz",
        "outputId": "f5e717c5-5bdc-43a0-d30a-01c455dddfb5"
      },
      "execution_count": 81,
      "outputs": [
        {
          "output_type": "stream",
          "name": "stdout",
          "text": [
            "We are waiting \"pranjal\" please come outside\n",
            "We are waiting \n",
            "\tPranjal please come fast\n",
            "\t\tYou are welcome \n"
          ]
        }
      ]
    },
    {
      "cell_type": "code",
      "source": [
        "print(2>>1)"
      ],
      "metadata": {
        "colab": {
          "base_uri": "https://localhost:8080/"
        },
        "id": "T-0FgjZlQNXP",
        "outputId": "a1a82aab-85cd-4d4f-a1e5-6cdd5d9bc7ac"
      },
      "execution_count": 84,
      "outputs": [
        {
          "output_type": "stream",
          "name": "stdout",
          "text": [
            "1\n"
          ]
        }
      ]
    },
    {
      "cell_type": "code",
      "source": [],
      "metadata": {
        "id": "djHq-WPRQNV8"
      },
      "execution_count": null,
      "outputs": []
    },
    {
      "cell_type": "code",
      "source": [],
      "metadata": {
        "id": "cNQnsI84QNNM"
      },
      "execution_count": null,
      "outputs": []
    },
    {
      "cell_type": "code",
      "source": [],
      "metadata": {
        "id": "0c6mdOO5QM88"
      },
      "execution_count": null,
      "outputs": []
    },
    {
      "cell_type": "code",
      "source": [],
      "metadata": {
        "id": "WHn4qncVQI0N"
      },
      "execution_count": null,
      "outputs": []
    }
  ]
}